{
 "cells": [
  {
   "cell_type": "markdown",
   "metadata": {},
   "source": [
    "# Load python modules"
   ]
  },
  {
   "cell_type": "code",
   "execution_count": 2,
   "metadata": {
    "id": "rYKJ5Kug7GKR"
   },
   "outputs": [],
   "source": [
    "import requests\n",
    "import pandas as pd\n",
    "from bs4 import BeautifulSoup\n",
    "import re\n",
    "from pprint import pprint\n",
    "\n",
    "pd.set_option('max_colwidth', 120)"
   ]
  },
  {
   "cell_type": "markdown",
   "metadata": {
    "id": "FKboQ11yX6Ko"
   },
   "source": [
    "# A list of post offices in Boulder & Weld County Colorado"
   ]
  },
  {
   "cell_type": "markdown",
   "metadata": {
    "id": "SdN9cJgUZKhS"
   },
   "source": [
    "## Load Boulder county post offices"
   ]
  },
  {
   "cell_type": "code",
   "execution_count": 3,
   "metadata": {
    "id": "HnZcHqCeJoqP"
   },
   "outputs": [],
   "source": [
    "with open('boulder.txt') as f:\n",
    "    boulder = f.read()\n",
    "boulder = boulder.split('\\n')"
   ]
  },
  {
   "cell_type": "code",
   "execution_count": 15,
   "metadata": {},
   "outputs": [
    {
     "name": "stdout",
     "output_type": "stream",
     "text": [
      "['allenspark', 'altona', 'balarat', 'belle monte', 'big elk', 'boulder', 'broomfield', 'bunce',\n",
      " 'burlington', 'canfield', 'cardinal', 'caribou', 'coal creek', 'coal park', 'copper rock',\n",
      " 'coraville', 'crags', 'crescent', 'crescent rur. sta.', 'crisman', 'davidson', 'delphi', 'downer',\n",
      " 'eagle rock', 'eldora', 'eldora rur. sta.', 'eldorado springs', 'eversman', 'ferberite', 'frances',\n",
      " 'glacier lake', 'gold hill', 'goldhill', 'gorham', 'gresham', 'gulch', 'hawthorne', 'hessie',\n",
      " 'high mar sta.', 'hygiene', 'jamestown', 'lafayette', 'lakewood', 'langford', 'left hand',\n",
      " 'longmont', 'louisville', 'lyons', 'magnolia', 'marshall', 'middle boulder', 'modoc', 'nederland',\n",
      " 'ni wot', 'niwot', 'noland', 'orodelfan', 'osborn', 'peaceful valley', 'pella', 'penn',\n",
      " 'pinecliffe', 'primos', 'puzzler', 'rockville', 'rowena', 'salina', 'shelton', 'springdale',\n",
      " 'sugar loaf', 'sunset', 'sunshine', 'superior', 'tungsten', 'valmont', 'valmont sta.', 'vesuvius',\n",
      " 'wallstreet', 'ward', 'ward district', 'wheelman', 'whitney']\n"
     ]
    }
   ],
   "source": [
    "pprint(boulder, width=100, compact=True)"
   ]
  },
  {
   "cell_type": "code",
   "execution_count": 5,
   "metadata": {},
   "outputs": [],
   "source": [
    "boulder = [town.lower() for town in boulder]   # use lower case for string comparisons"
   ]
  },
  {
   "cell_type": "markdown",
   "metadata": {},
   "source": [
    "## Load Weld county post offices"
   ]
  },
  {
   "cell_type": "code",
   "execution_count": 6,
   "metadata": {},
   "outputs": [],
   "source": [
    "with open('weld.txt') as f:\n",
    "    weld = f.read()\n",
    "weld = weld.split('\\n')"
   ]
  },
  {
   "cell_type": "code",
   "execution_count": 14,
   "metadata": {},
   "outputs": [
    {
     "name": "stdout",
     "output_type": "stream",
     "text": [
      "['alfalfa', 'american ranch', 'ault', 'avalo', 'barnesville', 'black wolf', 'briggsdale',\n",
      " 'buckingham', 'buffalo', 'camfield', 'carr', 'chapelton', 'cherokee city', 'clearwater', 'coleman',\n",
      " 'college sta.', 'cornish', 'cotsworth', 'crest', 'dacono', 'denver junction', 'dover',\n",
      " 'downtown sta.', 'eaton', 'eatonton', 'erie', 'evans', 'firestone', 'flemings ranch',\n",
      " 'fort lupton', 'fort moore', 'fort morgan', 'fort sedgwick', 'fosston', 'frederick',\n",
      " 'fremonts orchard', 'galeton', 'gault', 'geary', 'gilcrest', 'gill', 'gowanda', 'graham',\n",
      " 'greeley', 'grover', 'hardin', 'hereford', 'highland lake', 'highlandlake', 'hillsboro',\n",
      " 'hillsborough', 'hiltonville', 'hudson', 'ione', 'johnstown', 'julesburgh', 'junction house',\n",
      " 'kalous', 'kauffman', 'keensburg', 'keota', 'kersey', 'koenig', 'kuner', 'la salle', 'latham',\n",
      " 'levinson', 'lillian springs', 'lucerne', 'mamre', 'masters', 'mead', 'milliken', 'morgan',\n",
      " 'nantes', 'new liberty', 'new raymer', 'new wattenburg', 'new windsor', 'nunn', 'omar', 'orr',\n",
      " 'osgood', 'peckham', 'pierce', 'platte valley', 'platteville', 'purcell', 'raymer', 'red lion',\n",
      " 'rinn', 'roggen', 'saint vrains', 'sarinda', 'serene', 'severance', 'sligo', 'south platte',\n",
      " 'spurgin', 'st. vrain', 'stoneham', 'tipperary', 'vim', 'vollmar', 'wachtel', 'weld',\n",
      " 'weldon valley', 'wentz', 'whitman', 'windsor', 'zilara', 'zita']\n"
     ]
    }
   ],
   "source": [
    "pprint(weld, width=100, compact=True)"
   ]
  },
  {
   "cell_type": "code",
   "execution_count": 8,
   "metadata": {},
   "outputs": [],
   "source": [
    "weld = [town.lower() for town in weld]"
   ]
  },
  {
   "cell_type": "markdown",
   "metadata": {
    "id": "-dk3DtBJYBZK"
   },
   "source": [
    "# Load webpage from www.postal-history.com"
   ]
  },
  {
   "cell_type": "code",
   "execution_count": 9,
   "metadata": {
    "id": "iecUYXtY7Sx2"
   },
   "outputs": [],
   "source": [
    "def get_state(statecode, sec=1):\n",
    "    \"\"\" Method returns a dataframe of a state's postal history from Jim Mehrer's site.\n",
    "        Colorado is always on the section1 webpage, set the sec variable to the correct\n",
    "        section for the state you collect. \"\"\"\n",
    "\n",
    "    url = f'http://www.postal-history.com/mailbidsale.section{sec}.html'\n",
    "    statecode = statecode.upper()\n",
    "\n",
    "    # Download webpage and parse with BeautifulSoup\n",
    "    r = requests.get(url)\n",
    "    soup = BeautifulSoup(r.text)\n",
    "\n",
    "    found = []\n",
    "    for text in soup.stripped_strings:\n",
    "        text = text.replace('\\r\\n', ' ')\n",
    "        m = re.search(rf'(^{statecode}-\\d+).\\s+(\\S+),\\s+(\\d+),\\s+(.*)', text)\n",
    "        if m:\n",
    "          found.append(m.group(1, 2, 3, 4))\n",
    "\n",
    "    df = pd.DataFrame(found, columns=['cat', 'town', 'year', 'desc'])\n",
    "    return df"
   ]
  },
  {
   "cell_type": "code",
   "execution_count": 10,
   "metadata": {
    "colab": {
     "base_uri": "https://localhost:8080/",
     "height": 204
    },
    "id": "czitEqIH7fro",
    "outputId": "cf0ff935-2079-496b-e88d-839dc2a7d522"
   },
   "outputs": [
    {
     "data": {
      "text/html": [
       "<div>\n",
       "<style scoped>\n",
       "    .dataframe tbody tr th:only-of-type {\n",
       "        vertical-align: middle;\n",
       "    }\n",
       "\n",
       "    .dataframe tbody tr th {\n",
       "        vertical-align: top;\n",
       "    }\n",
       "\n",
       "    .dataframe thead th {\n",
       "        text-align: right;\n",
       "    }\n",
       "</style>\n",
       "<table border=\"1\" class=\"dataframe\">\n",
       "  <thead>\n",
       "    <tr style=\"text-align: right;\">\n",
       "      <th></th>\n",
       "      <th>town</th>\n",
       "      <th>year</th>\n",
       "      <th>desc</th>\n",
       "    </tr>\n",
       "    <tr>\n",
       "      <th>cat</th>\n",
       "      <th></th>\n",
       "      <th></th>\n",
       "      <th></th>\n",
       "    </tr>\n",
       "  </thead>\n",
       "  <tbody>\n",
       "    <tr>\n",
       "      <th>CO-1</th>\n",
       "      <td>Abbey</td>\n",
       "      <td>1907</td>\n",
       "      <td>G+ CDS as recd (91-14) on pix side of PPC. E $15 MIN.8</td>\n",
       "    </tr>\n",
       "    <tr>\n",
       "      <th>CO-2</th>\n",
       "      <td>Abbott</td>\n",
       "      <td>1907</td>\n",
       "      <td>F 4-bar (87-26) on PPC. 2 strikes overlapped, dated Mar 23 &amp; Apr 6; earlier strike maybe misdated, as Hillrose VG+ d...</td>\n",
       "    </tr>\n",
       "    <tr>\n",
       "      <th>CO-3</th>\n",
       "      <td>Abbott</td>\n",
       "      <td>1910</td>\n",
       "      <td>F 4-bar (cr) (87-26) on PPC. E $20</td>\n",
       "    </tr>\n",
       "    <tr>\n",
       "      <th>CO-4</th>\n",
       "      <td>Adena</td>\n",
       "      <td>1922</td>\n",
       "      <td>F 4-bar (toned) (10-49) on PPC (Curry Hotel, Ft.Morgan). E $15 MIN.8</td>\n",
       "    </tr>\n",
       "    <tr>\n",
       "      <th>CO-5</th>\n",
       "      <td>Argo</td>\n",
       "      <td>1906</td>\n",
       "      <td>F+ Doane 2/1 (slight stutter; tip crs) (81-11) on PPC. E $15 MIN.8</td>\n",
       "    </tr>\n",
       "    <tr>\n",
       "      <th>...</th>\n",
       "      <td>...</td>\n",
       "      <td>...</td>\n",
       "      <td>...</td>\n",
       "    </tr>\n",
       "    <tr>\n",
       "      <th>CO-76</th>\n",
       "      <td>Waldorf</td>\n",
       "      <td>1908</td>\n",
       "      <td>G+ 4-bar (toned) (06-12) on PPC w/Clarkson, GA, VG Doane 3/3 as recd. E $12 MIN.6</td>\n",
       "    </tr>\n",
       "    <tr>\n",
       "      <th>CO-77</th>\n",
       "      <td>Waldorf</td>\n",
       "      <td>1910</td>\n",
       "      <td>G+ 4-bar (upper R on stamp; lite tone; lower L tip nib) (06-12) on PPC: \"...mailing this at the highest P.O. in the ...</td>\n",
       "    </tr>\n",
       "    <tr>\n",
       "      <th>CO-78</th>\n",
       "      <td>Welcome</td>\n",
       "      <td>1911</td>\n",
       "      <td>G+ 4-bar (\"W\" partial; \"C\" in state not struck; crs) (10-12) on PPC. E $150</td>\n",
       "    </tr>\n",
       "    <tr>\n",
       "      <th>CO-79</th>\n",
       "      <td>Woodmen</td>\n",
       "      <td>1912</td>\n",
       "      <td>G+ 4-bar (EARLY) (12-49) on PPC. E $15</td>\n",
       "    </tr>\n",
       "    <tr>\n",
       "      <th>CO-80</th>\n",
       "      <td>Yoder</td>\n",
       "      <td>1913</td>\n",
       "      <td>G+ 4-bar on PPC. E $12 MIN.6</td>\n",
       "    </tr>\n",
       "  </tbody>\n",
       "</table>\n",
       "<p>68 rows × 3 columns</p>\n",
       "</div>"
      ],
      "text/plain": [
       "          town  year  \\\n",
       "cat                    \n",
       "CO-1     Abbey  1907   \n",
       "CO-2    Abbott  1907   \n",
       "CO-3    Abbott  1910   \n",
       "CO-4     Adena  1922   \n",
       "CO-5      Argo  1906   \n",
       "...        ...   ...   \n",
       "CO-76  Waldorf  1908   \n",
       "CO-77  Waldorf  1910   \n",
       "CO-78  Welcome  1911   \n",
       "CO-79  Woodmen  1912   \n",
       "CO-80    Yoder  1913   \n",
       "\n",
       "                                                                                                                          desc  \n",
       "cat                                                                                                                             \n",
       "CO-1                                                                    G+ CDS as recd (91-14) on pix side of PPC. E $15 MIN.8  \n",
       "CO-2   F 4-bar (87-26) on PPC. 2 strikes overlapped, dated Mar 23 & Apr 6; earlier strike maybe misdated, as Hillrose VG+ d...  \n",
       "CO-3                                                                                        F 4-bar (cr) (87-26) on PPC. E $20  \n",
       "CO-4                                                      F 4-bar (toned) (10-49) on PPC (Curry Hotel, Ft.Morgan). E $15 MIN.8  \n",
       "CO-5                                                        F+ Doane 2/1 (slight stutter; tip crs) (81-11) on PPC. E $15 MIN.8  \n",
       "...                                                                                                                        ...  \n",
       "CO-76                                        G+ 4-bar (toned) (06-12) on PPC w/Clarkson, GA, VG Doane 3/3 as recd. E $12 MIN.6  \n",
       "CO-77  G+ 4-bar (upper R on stamp; lite tone; lower L tip nib) (06-12) on PPC: \"...mailing this at the highest P.O. in the ...  \n",
       "CO-78                                              G+ 4-bar (\"W\" partial; \"C\" in state not struck; crs) (10-12) on PPC. E $150  \n",
       "CO-79                                                                                   G+ 4-bar (EARLY) (12-49) on PPC. E $15  \n",
       "CO-80                                                                                             G+ 4-bar on PPC. E $12 MIN.6  \n",
       "\n",
       "[68 rows x 3 columns]"
      ]
     },
     "execution_count": 10,
     "metadata": {},
     "output_type": "execute_result"
    }
   ],
   "source": [
    "co = get_state('CO')\n",
    "co = co.set_index('cat')\n",
    "co"
   ]
  },
  {
   "cell_type": "markdown",
   "metadata": {
    "id": "KocPVqZLNDsE"
   },
   "source": [
    "## Compare dataframe town column to the Boulder towns list"
   ]
  },
  {
   "cell_type": "markdown",
   "metadata": {
    "id": "gvcQrlFmYZyg"
   },
   "source": [
    "The towns below are in Boulder county and for sale in the www.postal-history.com latest auction.\n",
    "<strong>Be aware that a town may have the same name in a different county.</strong>"
   ]
  },
  {
   "cell_type": "code",
   "execution_count": 11,
   "metadata": {
    "colab": {
     "base_uri": "https://localhost:8080/",
     "height": 142
    },
    "id": "BbdeRGVbKRqJ",
    "outputId": "691a5710-1b40-4cd7-b94f-4c780e1a42df"
   },
   "outputs": [
    {
     "data": {
      "text/html": [
       "<div>\n",
       "<style scoped>\n",
       "    .dataframe tbody tr th:only-of-type {\n",
       "        vertical-align: middle;\n",
       "    }\n",
       "\n",
       "    .dataframe tbody tr th {\n",
       "        vertical-align: top;\n",
       "    }\n",
       "\n",
       "    .dataframe thead th {\n",
       "        text-align: right;\n",
       "    }\n",
       "</style>\n",
       "<table border=\"1\" class=\"dataframe\">\n",
       "  <thead>\n",
       "    <tr style=\"text-align: right;\">\n",
       "      <th></th>\n",
       "      <th>town</th>\n",
       "      <th>year</th>\n",
       "      <th>desc</th>\n",
       "    </tr>\n",
       "    <tr>\n",
       "      <th>cat</th>\n",
       "      <th></th>\n",
       "      <th></th>\n",
       "      <th></th>\n",
       "    </tr>\n",
       "  </thead>\n",
       "  <tbody>\n",
       "    <tr>\n",
       "      <th>CO-33</th>\n",
       "      <td>Gulch</td>\n",
       "      <td>1913</td>\n",
       "      <td>VG 4-bar (lite tone) (95-16) on 2.75x5.5\" PPC. E $60 MIN.30</td>\n",
       "    </tr>\n",
       "    <tr>\n",
       "      <th>CO-38</th>\n",
       "      <td>Hawthorne</td>\n",
       "      <td>1908</td>\n",
       "      <td>G+ magenta 4-bar (near VF) (06-30) on PPC. E $15 MIN.8</td>\n",
       "    </tr>\n",
       "    <tr>\n",
       "      <th>CO-57</th>\n",
       "      <td>Primos</td>\n",
       "      <td>1907</td>\n",
       "      <td>VF 4-bar (toned; upper L tip clip; tip crs) (07-13) on PPC. E $75</td>\n",
       "    </tr>\n",
       "  </tbody>\n",
       "</table>\n",
       "</div>"
      ],
      "text/plain": [
       "            town  year  \\\n",
       "cat                      \n",
       "CO-33      Gulch  1913   \n",
       "CO-38  Hawthorne  1908   \n",
       "CO-57     Primos  1907   \n",
       "\n",
       "                                                                    desc  \n",
       "cat                                                                       \n",
       "CO-33        VG 4-bar (lite tone) (95-16) on 2.75x5.5\" PPC. E $60 MIN.30  \n",
       "CO-38             G+ magenta 4-bar (near VF) (06-30) on PPC. E $15 MIN.8  \n",
       "CO-57  VF 4-bar (toned; upper L tip clip; tip crs) (07-13) on PPC. E $75  "
      ]
     },
     "execution_count": 11,
     "metadata": {},
     "output_type": "execute_result"
    }
   ],
   "source": [
    "co.loc[co.town.str.lower().isin(boulder)]"
   ]
  },
  {
   "cell_type": "markdown",
   "metadata": {},
   "source": [
    "## and now Weld county towns"
   ]
  },
  {
   "cell_type": "code",
   "execution_count": 12,
   "metadata": {
    "id": "8iuJGrL4OtcZ"
   },
   "outputs": [
    {
     "data": {
      "text/html": [
       "<div>\n",
       "<style scoped>\n",
       "    .dataframe tbody tr th:only-of-type {\n",
       "        vertical-align: middle;\n",
       "    }\n",
       "\n",
       "    .dataframe tbody tr th {\n",
       "        vertical-align: top;\n",
       "    }\n",
       "\n",
       "    .dataframe thead th {\n",
       "        text-align: right;\n",
       "    }\n",
       "</style>\n",
       "<table border=\"1\" class=\"dataframe\">\n",
       "  <thead>\n",
       "    <tr style=\"text-align: right;\">\n",
       "      <th></th>\n",
       "      <th>town</th>\n",
       "      <th>year</th>\n",
       "      <th>desc</th>\n",
       "    </tr>\n",
       "    <tr>\n",
       "      <th>cat</th>\n",
       "      <th></th>\n",
       "      <th></th>\n",
       "      <th></th>\n",
       "    </tr>\n",
       "  </thead>\n",
       "  <tbody>\n",
       "    <tr>\n",
       "      <th>CO-36</th>\n",
       "      <td>Hardin</td>\n",
       "      <td>1910</td>\n",
       "      <td>G+ 4-bar (lite tone) (81/55) on PPC. E $12 MIN.6</td>\n",
       "    </tr>\n",
       "  </tbody>\n",
       "</table>\n",
       "</div>"
      ],
      "text/plain": [
       "         town  year                                              desc\n",
       "cat                                                                  \n",
       "CO-36  Hardin  1910  G+ 4-bar (lite tone) (81/55) on PPC. E $12 MIN.6"
      ]
     },
     "execution_count": 12,
     "metadata": {},
     "output_type": "execute_result"
    }
   ],
   "source": [
    "co.loc[co.town.str.lower().isin(weld)]"
   ]
  }
 ],
 "metadata": {
  "colab": {
   "collapsed_sections": [],
   "name": "postal-history.ipynb",
   "provenance": [],
   "toc_visible": true
  },
  "kernelspec": {
   "display_name": "Python 3",
   "language": "python",
   "name": "python3"
  },
  "language_info": {
   "codemirror_mode": {
    "name": "ipython",
    "version": 3
   },
   "file_extension": ".py",
   "mimetype": "text/x-python",
   "name": "python",
   "nbconvert_exporter": "python",
   "pygments_lexer": "ipython3",
   "version": "3.8.5"
  }
 },
 "nbformat": 4,
 "nbformat_minor": 4
}
